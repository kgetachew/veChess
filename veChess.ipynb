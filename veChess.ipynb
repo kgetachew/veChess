{
 "cells": [
  {
   "cell_type": "code",
   "execution_count": 1,
   "metadata": {},
   "outputs": [
    {
     "name": "stdout",
     "output_type": "stream",
     "text": [
      "4.7.0\n"
     ]
    }
   ],
   "source": [
    "# Install Open CV\n",
    "# Import cv2 and verify\n",
    "# python3 -m pip install opencv-python\n",
    "import cv2 as cv\n",
    "import numpy as np\n",
    "import chess\n",
    "print(cv.__version__)"
   ]
  },
  {
   "cell_type": "code",
   "execution_count": 13,
   "metadata": {},
   "outputs": [],
   "source": [
    "def display_matches(img, rects, x_incr, y_incr):\n",
    "    \"\"\"\n",
    "    Display all potential matches of template\n",
    "    \"\"\"\n",
    "    piece_notation = []\n",
    "\n",
    "    for r in rects:\n",
    "        print(r)\n",
    "        cv.rectangle(img, (r[0], r[1]), (r[0] + r[2], r[1] + r[3]), (0, 0, 255), 2)\n",
    "        x = int((r[0] + r[0] + r[2]) / 2)\n",
    "        y = int((r[1] + r[1] + r[3]) / 2)\n",
    "        cv.circle(img, (x,y), 10, (0, 0, 255), 2)\n",
    "\n",
    "        notation = \"\"\n",
    "        if x >= 0 and x <= x_incr:\n",
    "            notation = notation + \"a\"\n",
    "        elif x > x_incr and x <= 2*x_incr:\n",
    "            notation = notation + \"b\"\n",
    "        elif x > 2*x_incr and x <= 3*x_incr:\n",
    "            notation = notation + \"c\"\n",
    "        elif x > 3*x_incr and x <= 4*x_incr:\n",
    "            notation = notation + \"d\"\n",
    "        elif x > 4*x_incr and x <= 5*x_incr:\n",
    "            notation = notation + \"e\"\n",
    "        elif x > 5*x_incr and x <= 6*x_incr:\n",
    "            notation = notation + \"f\"\n",
    "        elif x > 6*x_incr and x <= 7*x_incr:\n",
    "            notation = notation + \"g\"\n",
    "        elif x > 7*x_incr and x <= 8*x_incr:\n",
    "            notation = notation + \"h\"\n",
    "        \n",
    "        if x >= 0 and x <= y_incr:\n",
    "            notation = notation + \"8\"\n",
    "        elif x > y_incr and x <= 2*y_incr:\n",
    "            notation = notation + \"7\"\n",
    "        elif x > 2*y_incr and x <= 3*y_incr:\n",
    "            notation = notation + \"6\"\n",
    "        elif x > 3*y_incr and x <= 4*y_incr:\n",
    "            notation = notation + \"5\"\n",
    "        elif x > 4*y_incr and x <= 5*y_incr:\n",
    "            notation = notation + \"4\"\n",
    "        elif x > 5*y_incr and x <= 6*y_incr:\n",
    "            notation = notation + \"3\"\n",
    "        elif x > 6*y_incr and x <= 7*y_incr:\n",
    "            notation = notation + \"2\"\n",
    "        elif x > 7*y_incr and x <= 8*y_incr:\n",
    "            notation = notation + \"1\"\n",
    "        \n",
    "        piece_notation.append(notation)\n",
    "    return piece_notation\n",
    " \n",
    "\n",
    "\n",
    "\n",
    "def check_color(img, temp, rect):\n",
    "    \"\"\"\n",
    "    Determine if the piece is the same color as the given template\n",
    "    Need to be very strict on bounds\n",
    "    \"\"\"\n",
    "    y0, y1 = rect[1], rect[1] + rect[3]\n",
    "    x0, x1 =  rect[0], rect[0] + rect[2]    \n",
    "    template = (img[y0 : y1, x0 : x1]).copy()\n",
    "    diff = cv.absdiff(temp, template)\n",
    "    img_avg = cv.mean(diff)[0] / 255        \n",
    "    return img_avg < 0.2\n",
    "\n",
    "def find_template_multiple(img, temp):\n",
    "    \"\"\"\n",
    "    Locate all matching templates\n",
    "    \"\"\"\n",
    "    rects = []\n",
    "    w, h = temp.shape[1], temp.shape[0]\n",
    "\n",
    "    result = cv.matchTemplate(img, temp, cv.TM_CCOEFF_NORMED)\n",
    "    threshold = 0.5 # matching threshold, relatively stable.\n",
    "    loc = np.where( result >= threshold)\n",
    "\n",
    "    for pt in zip(*loc[::-1]):\n",
    "        rects.append((pt[0], pt[1], w, h))    \n",
    "\n",
    "    # Non-max suppression\n",
    "    rects, _ = cv.groupRectangles(rects, 1, 1)\n",
    "    rects = [r for r in rects]   \n",
    "\n",
    "    return rects"
   ]
  },
  {
   "cell_type": "code",
   "execution_count": 14,
   "metadata": {},
   "outputs": [],
   "source": [
    "def _ (img_board, img_pieces):\n",
    "    # Convert images to grayscale\n",
    "    img_board_gray = cv.cvtColor(img_board, cv.COLOR_BGR2GRAY)\n",
    "    img_pieces_gray = [cv.cvtColor(img_board, cv.COLOR_BGR2GRAY) for piece in img_pieces]\n",
    "    \n",
    "    # Morphological Erosion for stabilization\n",
    "    s = 3\n",
    "    kernel = np.ones((s, s), np.uint8)\n",
    "    img_board_gray_erode = cv.erode(img_board_gray,kernel,iterations = 1)\n",
    "    img_pieces_gray_erode = [cv.erode(img_piece_gray, kernel, iterations = 1) for img_piece_gray in img_pieces_gray]\n",
    "\n",
    "    # All instances of matching templates\n",
    "    matching_rects = [find_template_multiple(img_board_gray_erode, img_piece_gray_erode) for img_piece_gray_erode in img_pieces_gray_erode]"
   ]
  },
  {
   "cell_type": "code",
   "execution_count": 16,
   "metadata": {},
   "outputs": [
    {
     "name": "stdout",
     "output_type": "stream",
     "text": [
      "[  38 1194  118  148]\n",
      "[ 426 1194  118  148]\n",
      "[ 814 1194  118  148]\n",
      "[1202 1194  118  148]\n",
      "[ 232 1194  118  148]\n",
      "[ 620 1194  118  148]\n",
      "[1008 1194  118  148]\n",
      "[1396 1194  118  148]\n",
      "['a8', 'c6', 'e4', 'g2', 'b7', 'd5', 'f3', 'h1']\n"
     ]
    }
   ],
   "source": [
    "# Preprocessing\n",
    "img_board = cv.imread('ChessBoard.png')\n",
    "img_piece = cv.imread('WPawn.png')\n",
    "board_x, board_y, color = img_board.shape\n",
    "x_incrementer = board_x / 8\n",
    "y_incrementer = board_y / 8\n",
    "\n",
    "# Convert both images to grayscale\n",
    "img_board_gray = cv.cvtColor(img_board, cv.COLOR_BGR2GRAY)\n",
    "img_piece_gray = cv.cvtColor(img_piece, cv.COLOR_BGR2GRAY)\n",
    "\n",
    "# morphological erosion for stabilization\n",
    "s = 3\n",
    "kernel = np.ones((s, s), np.uint8)\n",
    "img_board_gray_erode = cv.erode(img_board_gray,kernel,iterations = 1)\n",
    "img_piece_gray_erode = cv.erode(img_piece_gray,kernel,iterations = 1)\n",
    "\n",
    "# All instances of matching templates\n",
    "rects = find_template_multiple(img_board_gray_erode, img_piece_gray_erode)\n",
    "\n",
    "# Matching color as given input\n",
    "matching_color_list = [check_color(img_board_gray, img_piece_gray, r) for r in rects]\n",
    "\n",
    "# Keep only matching color rectangles\n",
    "matching_color_rects = [r for (r, is_matching) in zip(rects, matching_color_list) if is_matching]\n",
    "\n",
    "piece_notation = display_matches(img_board, matching_color_rects, x_incrementer, y_incrementer)\n",
    "print(piece_notation)\n",
    "\n",
    "# Show the result\n",
    "cv.imshow('Result', img_board)\n",
    "cv.waitKey(0)\n",
    "cv.destroyAllWindows()"
   ]
  },
  {
   "attachments": {},
   "cell_type": "markdown",
   "metadata": {},
   "source": [
    "CHANGE"
   ]
  },
  {
   "cell_type": "code",
   "execution_count": 3,
   "metadata": {},
   "outputs": [],
   "source": [
    "# Load in all images being used\n",
    "blackBishop = cv.imread('BBishop.png')\n",
    "blackKing = cv.imread('BKing.png')\n",
    "blackKnight = cv.imread('BKnight.png')\n",
    "blackPawn = cv.imread('BPawn.png')\n",
    "blackQueen = cv.imread('BQueen.png')\n",
    "blackRook = cv.imread('BRook.png')\n",
    "\n",
    "whiteBishop = cv.imread('WBishop.png')\n",
    "whiteKing = cv.imread('WKing.png')\n",
    "whiteKnight = cv.imread('WKnight.png')\n",
    "whitePawn = cv.imread('WPawn.png')\n",
    "whiteQueen = cv.imread('WQueen.png')\n",
    "whiteRook = cv.imread('WRook.png')\n",
    "\n",
    "img_board = cv.imread('ChessBoard.png')\n",
    "img_piece = cv.imread('WRook.png')\n",
    "\n",
    "img_pieces = [blackBishop, blackKing, blackKnight, blackPawn, blackQueen, blackRook,\n",
    "              whiteBishop, whiteKing, whiteKnight, whitePawn, whiteQueen, whiteRook]"
   ]
  },
  {
   "cell_type": "code",
   "execution_count": 20,
   "metadata": {},
   "outputs": [],
   "source": [
    "# Convert to grayscale\n",
    "img_board_gray = cv.cvtColor(img_board, cv.COLOR_BGR2GRAY)\n",
    "img_pieces_gray = [cv.cvtColor(img, cv.COLOR_BGR2GRAY) for img in img_pieces]\n",
    "\n",
    "s = 3\n",
    "kernel = np.ones((s,s), np.uint8)\n",
    "# morphological gradient stabilizes the template matching by focusing on the shape's edges rather than its content.\n",
    "img_board_gray_grad = cv.morphologyEx(img_board_gray, cv.MORPH_GRADIENT, kernel)\n",
    "img_board_pieces_gray_grad = [cv.morphologyEx(img_gray, cv.MORPH_GRADIENT, kernel) for img_gray in img_pieces_gray]"
   ]
  },
  {
   "cell_type": "code",
   "execution_count": 28,
   "metadata": {},
   "outputs": [
    {
     "ename": "error",
     "evalue": "OpenCV(4.7.0) :-1: error: (-5:Bad argument) in function 'absdiff'\n> Overload resolution failed:\n>  - src1 is not a numpy array, neither a scalar\n>  - Expected Ptr<cv::UMat> for argument 'src1'\n",
     "output_type": "error",
     "traceback": [
      "\u001b[0;31m---------------------------------------------------------------------------\u001b[0m",
      "\u001b[0;31merror\u001b[0m                                     Traceback (most recent call last)",
      "Cell \u001b[0;32mIn[28], line 4\u001b[0m\n\u001b[1;32m      1\u001b[0m \u001b[39m# List of list of arrays of all pieces matching, 12 total in a chess opening (6 unique pairs)\u001b[39;00m\n\u001b[1;32m      2\u001b[0m list_rects \u001b[39m=\u001b[39m [find_template_multiple(img_board_gray_grad, img_gray_pieces) \u001b[39mfor\u001b[39;00m img_gray_pieces \u001b[39min\u001b[39;00m img_board_pieces_gray_grad]\n\u001b[0;32m----> 4\u001b[0m matching_color_list \u001b[39m=\u001b[39m [[check_color(img_board_gray, list_r, r) \u001b[39mfor\u001b[39;49;00m r \u001b[39min\u001b[39;49;00m list_r] \u001b[39mfor\u001b[39;49;00m list_r \u001b[39min\u001b[39;49;00m list_rects]\n\u001b[1;32m      6\u001b[0m \u001b[39m#matching_color_list = [check_color(img_board_gray, img_piece_gray, r) for r in rects]\u001b[39;00m\n\u001b[1;32m      7\u001b[0m \u001b[39mprint\u001b[39m(matching_color_list)\n",
      "Cell \u001b[0;32mIn[28], line 4\u001b[0m, in \u001b[0;36m<listcomp>\u001b[0;34m(.0)\u001b[0m\n\u001b[1;32m      1\u001b[0m \u001b[39m# List of list of arrays of all pieces matching, 12 total in a chess opening (6 unique pairs)\u001b[39;00m\n\u001b[1;32m      2\u001b[0m list_rects \u001b[39m=\u001b[39m [find_template_multiple(img_board_gray_grad, img_gray_pieces) \u001b[39mfor\u001b[39;00m img_gray_pieces \u001b[39min\u001b[39;00m img_board_pieces_gray_grad]\n\u001b[0;32m----> 4\u001b[0m matching_color_list \u001b[39m=\u001b[39m [[check_color(img_board_gray, list_r, r) \u001b[39mfor\u001b[39;49;00m r \u001b[39min\u001b[39;49;00m list_r] \u001b[39mfor\u001b[39;00m list_r \u001b[39min\u001b[39;00m list_rects]\n\u001b[1;32m      6\u001b[0m \u001b[39m#matching_color_list = [check_color(img_board_gray, img_piece_gray, r) for r in rects]\u001b[39;00m\n\u001b[1;32m      7\u001b[0m \u001b[39mprint\u001b[39m(matching_color_list)\n",
      "Cell \u001b[0;32mIn[28], line 4\u001b[0m, in \u001b[0;36m<listcomp>\u001b[0;34m(.0)\u001b[0m\n\u001b[1;32m      1\u001b[0m \u001b[39m# List of list of arrays of all pieces matching, 12 total in a chess opening (6 unique pairs)\u001b[39;00m\n\u001b[1;32m      2\u001b[0m list_rects \u001b[39m=\u001b[39m [find_template_multiple(img_board_gray_grad, img_gray_pieces) \u001b[39mfor\u001b[39;00m img_gray_pieces \u001b[39min\u001b[39;00m img_board_pieces_gray_grad]\n\u001b[0;32m----> 4\u001b[0m matching_color_list \u001b[39m=\u001b[39m [[check_color(img_board_gray, list_r, r) \u001b[39mfor\u001b[39;00m r \u001b[39min\u001b[39;00m list_r] \u001b[39mfor\u001b[39;00m list_r \u001b[39min\u001b[39;00m list_rects]\n\u001b[1;32m      6\u001b[0m \u001b[39m#matching_color_list = [check_color(img_board_gray, img_piece_gray, r) for r in rects]\u001b[39;00m\n\u001b[1;32m      7\u001b[0m \u001b[39mprint\u001b[39m(matching_color_list)\n",
      "Cell \u001b[0;32mIn[6], line 15\u001b[0m, in \u001b[0;36mcheck_color\u001b[0;34m(img, temp, rect)\u001b[0m\n\u001b[1;32m     13\u001b[0m y0, y1, x0, x1 \u001b[39m=\u001b[39m rect[\u001b[39m1\u001b[39m], rect[\u001b[39m1\u001b[39m] \u001b[39m+\u001b[39m rect[\u001b[39m3\u001b[39m], rect[\u001b[39m0\u001b[39m], rect[\u001b[39m0\u001b[39m] \u001b[39m+\u001b[39m rect[\u001b[39m2\u001b[39m]    \n\u001b[1;32m     14\u001b[0m crop \u001b[39m=\u001b[39m (img[y0 : y1, x0 : x1])\u001b[39m.\u001b[39mcopy()\n\u001b[0;32m---> 15\u001b[0m diff \u001b[39m=\u001b[39m cv\u001b[39m.\u001b[39;49mabsdiff(temp, crop)\n\u001b[1;32m     16\u001b[0m avg_diff \u001b[39m=\u001b[39m cv\u001b[39m.\u001b[39mmean(diff)[\u001b[39m0\u001b[39m] \u001b[39m/\u001b[39m \u001b[39m255\u001b[39m        \n\u001b[1;32m     17\u001b[0m \u001b[39mreturn\u001b[39;00m avg_diff \u001b[39m<\u001b[39m \u001b[39m0.4\u001b[39m\n",
      "\u001b[0;31merror\u001b[0m: OpenCV(4.7.0) :-1: error: (-5:Bad argument) in function 'absdiff'\n> Overload resolution failed:\n>  - src1 is not a numpy array, neither a scalar\n>  - Expected Ptr<cv::UMat> for argument 'src1'\n"
     ]
    }
   ],
   "source": [
    "# List of list of arrays of all pieces matching, 12 total in a chess opening (6 unique pairs)\n",
    "rects = find_template_multiple(img_board_gray_erode, img_piece_gray_erode)\n",
    "list_rects = [find_template_multiple(img_board_gray_grad, img_gray_pieces) for img_gray_pieces in img_board_pieces_gray_grad]\n",
    "\n",
    "\n",
    "#matching_color_list = [check_color(img_board_gray, img_piece_gray, r) for r in rects]\n",
    "print(matching_color_list)\n",
    "\n",
    "# # Keep only matching color rectangles.\n",
    "# matching_color_rects = [r for (r, is_matching) in zip(rects, matching_color_list) if is_matching]\n",
    "\n",
    "\n",
    "# draw_results(img_board, matching_color_rects)"
   ]
  }
 ],
 "metadata": {
  "kernelspec": {
   "display_name": "Python 3",
   "language": "python",
   "name": "python3"
  },
  "language_info": {
   "codemirror_mode": {
    "name": "ipython",
    "version": 3
   },
   "file_extension": ".py",
   "mimetype": "text/x-python",
   "name": "python",
   "nbconvert_exporter": "python",
   "pygments_lexer": "ipython3",
   "version": "3.11.2"
  },
  "orig_nbformat": 4
 },
 "nbformat": 4,
 "nbformat_minor": 2
}
